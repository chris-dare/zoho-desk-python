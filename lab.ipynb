{
 "cells": [
  {
   "cell_type": "code",
   "execution_count": 162,
   "metadata": {},
   "outputs": [],
   "source": [
    "import requests\n",
    "from pydantic import BaseModel\n",
    "from typing import List\n",
    "import pdb\n",
    "import logging"
   ]
  },
  {
   "cell_type": "code",
   "execution_count": 163,
   "metadata": {},
   "outputs": [],
   "source": [
    "logger = logging.getLogger('dev')\n",
    "logger.setLevel(logging.INFO)"
   ]
  },
  {
   "cell_type": "code",
   "execution_count": 213,
   "metadata": {},
   "outputs": [],
   "source": [
    "GRANT_TYPES = {\n",
    "    \"authorization_code\": \"authorization_code\",\n",
    "    \"refresh_token\": \"refresh_token\"\n",
    "}\n",
    "self_client_dict = {\n",
    "    \"code\": \"1000.0660b1c556f7d47be5d8ec5ae967fa38.4b056e389187c12d0694c0259f2a2dcf\",\n",
    "    \"scope\": [\"Desk.tickets.ALL\"],\n",
    "    \"expiry_time\": 1610367630253,\n",
    "    \"client_id\": \"1000.QXWN1SUWKQC7F1F1D4C2R8BC00I3AE\",\n",
    "    \"client_secret\": \"6a27c69dfb8e31e6a9ceea8ef5bf152fd41aea8c07\",\n",
    "    \"grant_types\": GRANT_TYPES,\n",
    "    \"redirect_uri\": \"https://patient.serenity.health\",\n",
    "}\n",
    "zoho_urls = {\n",
    "    \"oauth\": \"https://accounts.zoho.com/oauth/v2/token\",\n",
    "    \"base_url\": \"https://desk.zoho.com/api/v1\",\n",
    "}\n",
    "\n",
    "# state=-5466400890088961855&code=1000.71f7dd93b5571315574f9b82315ea6d6.91844bdb4a86740d3dba8a7e5b655d40&location=us"
   ]
  },
  {
   "cell_type": "code",
   "execution_count": 165,
   "metadata": {},
   "outputs": [
    {
     "data": {
      "text/plain": [
       "NoneType"
      ]
     },
     "execution_count": 165,
     "metadata": {},
     "output_type": "execute_result"
    }
   ],
   "source": [
    "type(self_client_dict.get(\"hi\"))"
   ]
  },
  {
   "cell_type": "code",
   "execution_count": 229,
   "metadata": {},
   "outputs": [],
   "source": [
    "class ZohoSelfClient(BaseModel):\n",
    "    scope: List[str]\n",
    "    expiry_time: int = None\n",
    "    client_id: str\n",
    "    client_secret: str\n",
    "    code: str\n",
    "    grant_types: dict\n",
    "    access_token: str = None\n",
    "    refresh_token: str = None\n",
    "    redirect_uri: str = \"https://patient.serenity.health\"\n",
    "        \n",
    "    def get_authorization_header(self) -> str:\n",
    "        return f\"Zoho-oauthtoken {self.access_token}\"\n"
   ]
  },
  {
   "cell_type": "code",
   "execution_count": 195,
   "metadata": {},
   "outputs": [],
   "source": [
    "# self_client = ZohoSelfClient(**self_client_dict)\n",
    "# self_client.code = \"1000.483de26728e1dc7d0eda05919d945d9f.f9610e4be5b43dedf46fa6fb104f7959\""
   ]
  },
  {
   "cell_type": "code",
   "execution_count": 227,
   "metadata": {},
   "outputs": [],
   "source": [
    "def get_zoho_oauth_tokens(zoho_self_client: ZohoSelfClient, oauth_url: str = zoho_urls[\"oauth\"])-> dict: \n",
    "    payload = {\n",
    "        \"code\": zoho_self_client.code,\n",
    "        \"grant_type\": zoho_self_client.grant_types[\"authorization_code\"],\n",
    "        \"client_id\": zoho_self_client.client_id,\n",
    "        \"client_secret\": zoho_self_client.client_secret,\n",
    "        \"redirect_uri\": zoho_self_client.redirect_uri,\n",
    "    }\n",
    "    response = requests.post(oauth_url, params=payload)\n",
    "    try:\n",
    "        if response.status_code == 200 and not response.json().get(\"error\"):\n",
    "            logging.info(\"Successfully retrieved oauth tokens\")\n",
    "            tokens = response.json()\n",
    "            zoho_self_client.access_token = tokens[\"access_token\"]\n",
    "            zoho_self_client.refresh_token = tokens[\"refresh_token\"]\n",
    "            tokens[\"status\"] = True\n",
    "        else:\n",
    "            logging.error(\"Failed to retrieve oauth tokens\")\n",
    "            tokens = dict()\n",
    "            tokens[\"status\"] = False\n",
    "    except (ValueError, KeyError) as e:\n",
    "        pass # there's no token\n",
    "    return tokens"
   ]
  },
  {
   "cell_type": "code",
   "execution_count": 231,
   "metadata": {},
   "outputs": [
    {
     "data": {
      "text/plain": [
       "{'scope': ['Desk.tickets.ALL'],\n",
       " 'expiry_time': 1610367630253,\n",
       " 'client_id': '1000.QXWN1SUWKQC7F1F1D4C2R8BC00I3AE',\n",
       " 'client_secret': '6a27c69dfb8e31e6a9ceea8ef5bf152fd41aea8c07',\n",
       " 'code': '1000.483de26728e1dc7d0eda05919d945d9f.f9610e4be5b43dedf46fa6fb104f7959',\n",
       " 'grant_types': {'authorization_code': 'authorization_code',\n",
       "  'refresh_token': 'refresh_token'},\n",
       " 'access_token': '1000.62364743ad3344f15fe51a8988eaef42.abd218be429b372f12bad73af6e5b8ac',\n",
       " 'refresh_token': '1000.6b63c18345b5b986009b9eeeeaf3f73c.d9bbbdeb68b3fc081668bb97ef632ae9',\n",
       " 'redirect_uri': 'https://patient.serenity.health'}"
      ]
     },
     "execution_count": 231,
     "metadata": {},
     "output_type": "execute_result"
    }
   ],
   "source": [
    "zoho_self_client_dict = zoho_self_client.dict()\n",
    "zoho_self_client_dict"
   ]
  },
  {
   "cell_type": "code",
   "execution_count": 230,
   "metadata": {},
   "outputs": [
    {
     "data": {
      "text/plain": [
       "'Zoho-oauthtoken 1000.62364743ad3344f15fe51a8988eaef42.abd218be429b372f12bad73af6e5b8ac'"
      ]
     },
     "execution_count": 230,
     "metadata": {},
     "output_type": "execute_result"
    }
   ],
   "source": [
    "zoho_self_client = ZohoSelfClient(**self_client_dict)\n",
    "zoho_self_client.get_authorization_header()"
   ]
  },
  {
   "cell_type": "code",
   "execution_count": 198,
   "metadata": {},
   "outputs": [
    {
     "data": {
      "text/plain": [
       "{'scope': ['Desk.tickets.ALL'],\n",
       " 'expiry_time': 1610367630253,\n",
       " 'client_id': '1000.QXWN1SUWKQC7F1F1D4C2R8BC00I3AE',\n",
       " 'client_secret': '6a27c69dfb8e31e6a9ceea8ef5bf152fd41aea8c07',\n",
       " 'code': '1000.483de26728e1dc7d0eda05919d945d9f.f9610e4be5b43dedf46fa6fb104f7959',\n",
       " 'grant_types': {'authorization_code': 'authorization_code',\n",
       "  'refresh_token': 'refresh_token'},\n",
       " 'access_token': '1000.97e3f45344a66886b10987c06ceac647.26257e8cc1e3320ffe7c94c784656c27',\n",
       " 'refresh_token': '1000.6b63c18345b5b986009b9eeeeaf3f73c.d9bbbdeb68b3fc081668bb97ef632ae9',\n",
       " 'redirect_uri': 'https://patient.serenity.health'}"
      ]
     },
     "execution_count": 198,
     "metadata": {},
     "output_type": "execute_result"
    }
   ],
   "source": [
    "tokens = get_zoho_oauth_tokens(self_client)\n",
    "self_client.dict()"
   ]
  },
  {
   "cell_type": "code",
   "execution_count": 228,
   "metadata": {},
   "outputs": [],
   "source": [
    "def refresh_zoho_oauth_tokens(zoho_self_client: ZohoSelfClient, oauth_url: str = zoho_urls[\"oauth\"])-> dict: \n",
    "    if not self_client.refresh_token:\n",
    "        tokens = get_zoho_oauth_tokens(zoho_self_client)\n",
    "        if not tokens[\"status\"]:\n",
    "            return tokens\n",
    "    else:\n",
    "        payload = {\n",
    "            \"refresh_token\": zoho_self_client.refresh_token,\n",
    "            \"scope\": zoho_self_client.scope,\n",
    "            \"grant_type\": zoho_self_client.grant_types[\"refresh_token\"],\n",
    "            \"client_id\": zoho_self_client.client_id,\n",
    "            \"client_secret\": zoho_self_client.client_secret,\n",
    "            \"redirect_uri\": zoho_self_client.redirect_uri,\n",
    "        }\n",
    "        response = requests.post(oauth_url, params=payload)\n",
    "        logging.warning(response.url)\n",
    "        try:\n",
    "            if response.status_code == 200 and not response.json().get(\"error\"):\n",
    "                tokens = response.json()\n",
    "                zoho_self_client.access_token = tokens[\"access_token\"]\n",
    "                tokens[\"status\"] = True\n",
    "            else:\n",
    "                tokens = dict()\n",
    "                tokens[\"status\"] = False\n",
    "        except ValueError:\n",
    "            pass # there's no token\n",
    "        return tokens\n",
    "\n",
    "# serenity_zoho_access_keys"
   ]
  },
  {
   "cell_type": "code",
   "execution_count": 232,
   "metadata": {},
   "outputs": [
    {
     "name": "stderr",
     "output_type": "stream",
     "text": [
      "WARNING:root:https://accounts.zoho.com/oauth/v2/token?refresh_token=1000.6b63c18345b5b986009b9eeeeaf3f73c.d9bbbdeb68b3fc081668bb97ef632ae9&scope=Desk.tickets.ALL&grant_type=refresh_token&client_id=1000.QXWN1SUWKQC7F1F1D4C2R8BC00I3AE&client_secret=6a27c69dfb8e31e6a9ceea8ef5bf152fd41aea8c07&redirect_uri=https%3A%2F%2Fpatient.serenity.health\n"
     ]
    },
    {
     "data": {
      "text/plain": [
       "{'scope': ['Desk.tickets.ALL'],\n",
       " 'expiry_time': 1610367630253,\n",
       " 'client_id': '1000.QXWN1SUWKQC7F1F1D4C2R8BC00I3AE',\n",
       " 'client_secret': '6a27c69dfb8e31e6a9ceea8ef5bf152fd41aea8c07',\n",
       " 'code': '1000.483de26728e1dc7d0eda05919d945d9f.f9610e4be5b43dedf46fa6fb104f7959',\n",
       " 'grant_types': {'authorization_code': 'authorization_code',\n",
       "  'refresh_token': 'refresh_token'},\n",
       " 'access_token': '1000.cff56660f3058f3d29a89c276ed5542c.9e231299133903556ff2a433b0f87438',\n",
       " 'refresh_token': '1000.6b63c18345b5b986009b9eeeeaf3f73c.d9bbbdeb68b3fc081668bb97ef632ae9',\n",
       " 'redirect_uri': 'https://patient.serenity.health'}"
      ]
     },
     "execution_count": 232,
     "metadata": {},
     "output_type": "execute_result"
    }
   ],
   "source": [
    "tokens = refresh_zoho_oauth_tokens(zoho_self_client)\n",
    "zoho_self_client.dict()"
   ]
  },
  {
   "cell_type": "markdown",
   "metadata": {},
   "source": [
    "## Get all tickets"
   ]
  },
  {
   "cell_type": "code",
   "execution_count": 208,
   "metadata": {},
   "outputs": [
    {
     "name": "stdout",
     "output_type": "stream",
     "text": [
      "{\"data\":[{\"id\":\"286477000000086284\",\"ticketNumber\":\"101\",\"layoutId\":\"286477000000074011\",\"email\":\"support@zohodesk.com\",\"phone\":\"1 888 900 9646\",\"subject\":\"Here's your first ticket.\",\"status\":\"Closed\",\"statusType\":\"Closed\",\"createdTime\":\"2018-05-31T23:20:18.000Z\",\"category\":null,\"language\":null,\"subCategory\":null,\"priority\":null,\"channel\":\"Email\",\"dueDate\":\"2018-06-02T23:20:18.000Z\",\"responseDueDate\":null,\"commentCount\":\"0\",\"sentiment\":null,\"threadCount\":\"1\",\"closedTime\":\"2021-01-11T14:30:02.000Z\",\"onholdTime\":null,\"departmentId\":\"286477000000006907\",\"contactId\":\"286477000000086242\",\"productId\":null,\"assigneeId\":\"286477000000086033\",\"teamId\":null,\"department\":{\"id\":\"286477000000006907\",\"name\":\"clearspacelabs\"},\"contact\":{\"firstName\":null,\"lastName\":\"Lawrence\",\"email\":\"support@zohodesk.com\",\"mobile\":null,\"phone\":\"1 888 900 9646\",\"type\":null,\"account\":{\"accountName\":\"Zoho\",\"website\":\"https://www.zoho.com/\",\"id\":\"286477000000086214\"},\"id\":\"286477000000086242\"},\"team\":null,\"assignee\":{\"id\":\"286477000000086033\",\"email\":\"ehi@clearspacelabs.com\",\"photoURL\":\"https://desk.zoho.com/api/v1/agents/286477000000086033/photo?orgId=668686891\",\"firstName\":\"Ehi\",\"lastName\":\"Binitie\"},\"channelCode\":null,\"webUrl\":\"https://desk.zoho.com/support/serenityhealth/ShowHomePage.do#Cases/dv/286477000000086284\",\"isSpam\":false,\"lastThread\":null,\"customerResponseTime\":\"2018-05-31T23:20:18.000Z\",\"isArchived\":false,\"source\":{\"appName\":null,\"appPhotoURL\":null,\"permalink\":null,\"type\":\"SYSTEM\",\"extId\":null},\"isRead\":true}]}"
     ]
    }
   ],
   "source": [
    "!curl -X GET https://desk.zoho.com/api/v1/tickets?include=contacts,assignee,departments,team,isRead\\\n",
    "  -H \"Authorization:Zoho-oauthtoken 1000.62364743ad3344f15fe51a8988eaef42.abd218be429b372f12bad73af6e5b8ac\""
   ]
  },
  {
   "cell_type": "code",
   "execution_count": 236,
   "metadata": {},
   "outputs": [],
   "source": [
    "def get_all_tickets(zoho_self_client: ZohoSelfClient, params: dict = {}, base_url: str = zoho_urls[\"base_url\"],) -> dict:    \n",
    "    headers = {\"Authorization\": f\"Zoho-oauthtoken {zoho_self_client.access_token}\"}\n",
    "    response = requests.get(f\"{base_url}/tickets\", headers=headers, params=params)\n",
    "    if response.status_code == 200:\n",
    "        data = response.json()\n",
    "    else:\n",
    "        data = {error: True}\n",
    "    return data"
   ]
  },
  {
   "cell_type": "code",
   "execution_count": 264,
   "metadata": {},
   "outputs": [],
   "source": [
    "def create_ticket(zoho_self_client: ZohoSelfClient, payload:dict, base_url: str = zoho_urls[\"base_url\"],) -> dict:    \n",
    "    headers = {\"Authorization\": f\"Zoho-oauthtoken {zoho_self_client.access_token}\"}\n",
    "    response = requests.post(f\"{base_url}/tickets\", headers=headers, data=payload)\n",
    "    if response.status_code == 201:\n",
    "        data = response.json()\n",
    "    else:\n",
    "        data = {\"error\": True}\n",
    "    return data, response"
   ]
  },
  {
   "cell_type": "code",
   "execution_count": 265,
   "metadata": {
    "scrolled": true
   },
   "outputs": [],
   "source": [
    "response = create_ticket(zoho_self_client, payload = ticket_data)"
   ]
  },
  {
   "cell_type": "code",
   "execution_count": 267,
   "metadata": {},
   "outputs": [
    {
     "data": {
      "text/plain": [
       "<Response [415]>"
      ]
     },
     "execution_count": 267,
     "metadata": {},
     "output_type": "execute_result"
    }
   ],
   "source": [
    "ticket_data = {\n",
    "    \"subject\",\n",
    "    \"departmentId\"\n",
    "}"
   ]
  },
  {
   "cell_type": "code",
   "execution_count": 260,
   "metadata": {},
   "outputs": [],
   "source": [
    "null = None"
   ]
  },
  {
   "cell_type": "code",
   "execution_count": 262,
   "metadata": {},
   "outputs": [],
   "source": [
    "ticket_data = {\n",
    "    \"subCategory\" : \"Serenity Patient portal\",\n",
    "    \"cf\" : {\n",
    "    \"cf_permanentaddress\" : null,\n",
    "    \"cf_dateofpurchase\" : null,\n",
    "    \"cf_phone\" : null,\n",
    "    \"cf_numberofitems\" : null,\n",
    "    \"cf_url\" : null,\n",
    "    \"cf_secondaryemail\" : null,\n",
    "    \"cf_severitypercentage\" : \"0.0\",\n",
    "    \"cf_modelname\" : \"F3 2017\"\n",
    "    },\n",
    "    \"productId\" : \"\",\n",
    "    \"contactId\" : \"\",\n",
    "    \"contact\":{\n",
    "        \"email\": \"chris@clearspacelabs.com\"\n",
    "    },\n",
    "    \"subject\" : \"Test automated ticket creation\",\n",
    "    \"dueDate\" : \"2021-01-21T16:16:16.000Z\",\n",
    "    \"departmentId\" : \"1892000000006907\",\n",
    "    \"channel\" : \"Email\",\n",
    "    \"description\" : \"Description of automated\",\n",
    "    \"language\" : \"English\",\n",
    "    \"priority\" : \"High\",\n",
    "    \"classification\" : \"\",\n",
    "    \"assigneeId\" : \"\",\n",
    "    \"phone\" : \"+250786745117\",\n",
    "    \"category\" : \"general\",\n",
    "    \"email\" : \"chris@clearspacelabs.com\",\n",
    "    \"status\" : \"Open\"\n",
    "}"
   ]
  },
  {
   "cell_type": "code",
   "execution_count": 256,
   "metadata": {},
   "outputs": [
    {
     "ename": "IndentationError",
     "evalue": "unindent does not match any outer indentation level (<tokenize>, line 31)",
     "output_type": "error",
     "traceback": [
      "\u001b[0;36m  File \u001b[0;32m\"<tokenize>\"\u001b[0;36m, line \u001b[0;32m31\u001b[0m\n\u001b[0;31m    }'\u001b[0m\n\u001b[0m    ^\u001b[0m\n\u001b[0;31mIndentationError\u001b[0m\u001b[0;31m:\u001b[0m unindent does not match any outer indentation level\n"
     ]
    }
   ],
   "source": [
    "!curl -X GET https://desk.zoho.com/api/v1/tickets\\\n",
    "    -H \"Authorization: Zoho-oauthtoken 1000.cff56660f3058f3d29a89c276ed5542c.9e231299133903556ff2a433b0f87438\"\\\n",
    "    -d '{\n",
    "            \"subCategory\" : \"Serenity Patient portal\",\n",
    "            \"cf\" : {\n",
    "            \"cf_permanentaddress\" : null,\n",
    "            \"cf_dateofpurchase\" : null,\n",
    "            \"cf_phone\" : null,\n",
    "            \"cf_numberofitems\" : null,\n",
    "            \"cf_url\" : null,\n",
    "            \"cf_secondaryemail\" : null,\n",
    "            \"cf_severitypercentage\" : \"0.0\",\n",
    "            \"cf_modelname\" : \"F3 2017\"\n",
    "            },\n",
    "            \"productId\" : \"\",\n",
    "            \"contactId\" : \"\",\n",
    "            \"contact\":{\n",
    "                \"email\": \"chris@clearspacelabs.com\"\n",
    "            }\n",
    "            \"subject\" : \"Test automated ticket creation\",\n",
    "            \"dueDate\" : \"2021-01-21T16:16:16.000Z\",\n",
    "            \"departmentId\" : \"1892000000006907\",\n",
    "            \"channel\" : \"Email\",\n",
    "            \"description\" : \"Description of automated\",\n",
    "            \"language\" : \"English\",\n",
    "            \"priority\" : \"High\",\n",
    "            \"classification\" : \"\",\n",
    "            \"assigneeId\" : \"\",\n",
    "            \"phone\" : \"+250786745117\",\n",
    "            \"category\" : \"general\",\n",
    "            \"email\" : \"chris@clearspacelabs.com\",\n",
    "            \"status\" : \"Open\"\n",
    "        }'"
   ]
  }
 ],
 "metadata": {
  "kernelspec": {
   "display_name": "Python 3",
   "language": "python",
   "name": "python3"
  },
  "language_info": {
   "codemirror_mode": {
    "name": "ipython",
    "version": 3
   },
   "file_extension": ".py",
   "mimetype": "text/x-python",
   "name": "python",
   "nbconvert_exporter": "python",
   "pygments_lexer": "ipython3",
   "version": "3.7.1"
  }
 },
 "nbformat": 4,
 "nbformat_minor": 4
}
