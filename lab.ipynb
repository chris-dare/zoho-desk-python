{
 "cells": [
  {
   "cell_type": "code",
   "execution_count": 179,
   "metadata": {},
   "outputs": [],
   "source": [
    "import json\n",
    "import logging\n",
    "import pdb\n",
    "from datetime import datetime\n",
    "\n",
    "import requests\n",
    "\n",
    "from typing import List, Optional\n",
    "from pydantic import BaseModel, HttpUrl, ValidationError, validator\n"
   ]
  },
  {
   "cell_type": "code",
   "execution_count": 2,
   "metadata": {},
   "outputs": [],
   "source": [
    "logger = logging.getLogger('dev')\n",
    "logger.setLevel(logging.INFO)"
   ]
  },
  {
   "cell_type": "code",
   "execution_count": 125,
   "metadata": {},
   "outputs": [],
   "source": [
    "class ZohoSelfClient(BaseModel):\n",
    "    scope: List[str]\n",
    "    expiry_time: int = None\n",
    "    client_id: str\n",
    "    client_secret: str\n",
    "    code: str\n",
    "    grant_types: dict\n",
    "    access_token: str = None\n",
    "    refresh_token: str = None\n",
    "    redirect_uri: str = \"https://patient.serenity.health\"\n",
    "        \n",
    "    def get_authorization_header(self) -> str:\n",
    "        return f\"Zoho-oauthtoken {self.access_token}\"\n",
    "    "
   ]
  },
  {
   "cell_type": "code",
   "execution_count": 159,
   "metadata": {},
   "outputs": [],
   "source": [
    "class ZohoDesk:\n",
    "    def __init__(self, app: ZohoSelfClient, urls:dict = None):\n",
    "        self.urls = urls\n",
    "        if not self.urls:\n",
    "            self.urls = {\n",
    "                \"oauth\": \"https://accounts.zoho.com/oauth/v2/token\",\n",
    "                \"base_url\": \"https://desk.zoho.com/api/v1\",\n",
    "            }\n",
    "        self.app = app\n",
    "        if not self.app.access_token or not self.app.refresh_token:\n",
    "            self.get_oauth_tokens()\n",
    "    \n",
    "    \n",
    "    def get_oauth_tokens(self) -> dict:\n",
    "        payload = {\n",
    "            \"code\": self.app.code,\n",
    "            \"grant_type\": self.app.grant_types[\"authorization_code\"],\n",
    "            \"client_id\": self.app.client_id,\n",
    "            \"client_secret\": self.app.client_secret,\n",
    "            \"redirect_uri\": self.app.redirect_uri,\n",
    "        }\n",
    "        response = requests.post(self.urls[\"oauth\"], params=payload)\n",
    "        try:\n",
    "            if response.status_code == 200 and not response.json().get(\"error\"):\n",
    "                logging.info(\"Successfully retrieved oauth tokens\")\n",
    "                tokens = response.json()\n",
    "                self.app.access_token = tokens[\"access_token\"]\n",
    "                self.app.refresh_token = tokens[\"refresh_token\"]\n",
    "                tokens[\"status\"] = True\n",
    "            else:\n",
    "                logging.error(\"Failed to retrieve oauth tokens\")\n",
    "                tokens = dict()\n",
    "                tokens[\"status\"] = False\n",
    "        except (ValueError, KeyError) as e:\n",
    "            pass # there's no token\n",
    "        return tokens\n",
    "    \n",
    "    \n",
    "    def refresh_oauth_tokens(self)-> dict:\n",
    "        if not self.app.refresh_token:\n",
    "            tokens = self.get_oauth_tokens()\n",
    "            if not tokens[\"status\"]:\n",
    "                return tokens\n",
    "        else:\n",
    "            payload = {\n",
    "                \"refresh_token\": self.app.refresh_token,\n",
    "                \"scope\": self.app.scope,\n",
    "                \"grant_type\": self.app.grant_types[\"refresh_token\"],\n",
    "                \"client_id\": self.app.client_id,\n",
    "                \"client_secret\": self.app.client_secret,\n",
    "                \"redirect_uri\": self.app.redirect_uri,\n",
    "            }\n",
    "            response = requests.post(self.urls[\"oauth\"], params=payload)\n",
    "            logging.warning(response.url)\n",
    "            try:\n",
    "                if response.status_code == 200 and not response.json().get(\"error\"):\n",
    "                    tokens = response.json()\n",
    "                    self.app.access_token = tokens[\"access_token\"]\n",
    "                    tokens[\"status\"] = True\n",
    "                else:\n",
    "                    tokens = dict()\n",
    "                    tokens[\"status\"] = False\n",
    "            except ValueError:\n",
    "                pass # there's no token\n",
    "            return tokens\n",
    "    \n",
    "    \n",
    "    def _get_authorization_header(self):\n",
    "        \"\"\"\n",
    "        Returns an active access for making requests under the scope provided \n",
    "        in self.app.scope\n",
    "        \"\"\"\n",
    "        #TODO: Check that current access token is valid. Else refresh it\n",
    "        authorization_header = {\"Authorization\": f\"Zoho-oauthtoken {self.app.access_token}\"}\n",
    "        return authorization_header\n",
    "    \n",
    "    \n",
    "    def get_departments(\n",
    "        self,\n",
    "        params: dict = {},\n",
    "    ) -> dict:\n",
    "        headers = self._get_authorization_header()\n",
    "    #     params = {**params, 'isEnabled': True, \"chatStatus\": \"AVAILABLE\"}\n",
    "        response = requests.get(f'{self.urls[\"base_url\"]}/departments', headers=headers, params=params)\n",
    "        if response.status_code == 200:\n",
    "            data = response.json()\n",
    "        else:\n",
    "            data = {\"error\": True}\n",
    "        return data\n",
    "    \n",
    "    \n",
    "    def get_department(\n",
    "        self,\n",
    "        department_id: int,\n",
    "        params: dict = {},\n",
    "    ) -> dict:\n",
    "        headers = self._get_authorization_header()\n",
    "    #     params = {**params, 'isEnabled': True, \"chatStatus\": \"AVAILABLE\"}\n",
    "        response = requests.get(f'{self.urls[\"base_url\"]}/departments/{department_id}', headers=headers, params=params)\n",
    "        if response.status_code == 200:\n",
    "            data = response.json()\n",
    "        else:\n",
    "            data = {\"error\": True}\n",
    "        return data\n",
    "    \n",
    "    \n",
    "    def get_tickets(self, params: dict = {},) -> dict:    \n",
    "        headers = self._get_authorization_header()\n",
    "        response = requests.get(f'{self.urls[\"base_url\"]}/tickets', headers=headers, params=params)\n",
    "        if response.status_code == 200:\n",
    "            data = response.json()\n",
    "        else:\n",
    "            data = {\"error\": True}\n",
    "        return data\n",
    "    \n",
    "    def create_ticket(self, payload:dict,) -> dict:\n",
    "        headers = self._get_authorization_header()\n",
    "        response = requests.post(f'{self.urls[\"base_url\"]}/tickets', headers=headers, data=json.dumps(payload))\n",
    "        if response.status_code == 201  or response.status_code == 200:\n",
    "            data = response.json()\n",
    "        else:\n",
    "            data = {\"error\": True}\n",
    "        return data"
   ]
  },
  {
   "cell_type": "code",
   "execution_count": 150,
   "metadata": {},
   "outputs": [],
   "source": [
    "GRANT_TYPES = {\n",
    "    \"authorization_code\": \"authorization_code\",\n",
    "    \"refresh_token\": \"refresh_token\"\n",
    "}\n",
    "zoho_self_client_dict = {\n",
    "    \"code\": \"1000.78de0c7264b5358a05d591127774d486.267dd8c5ded16f244f42d9b7dc3ee428\",\n",
    "    \"scope\": [\"Desk.tickets.ALL\"],\n",
    "    \"expiry_time\": 1610367630253,\n",
    "    \"client_id\": \"1000.QXWN1SUWKQC7F1F1D4C2R8BC00I3AE\",\n",
    "    \"client_secret\": \"6a27c69dfb8e31e6a9ceea8ef5bf152fd41aea8c07\",\n",
    "    \"grant_types\": GRANT_TYPES,\n",
    "    \"redirect_uri\": \"https://patient.serenity.health\",\n",
    "}\n",
    "zoho_urls = {\n",
    "    \"oauth\": \"https://accounts.zoho.com/oauth/v2/token\",\n",
    "    \"base_url\": \"https://desk.zoho.com/api/v1\",\n",
    "}\n",
    "\n",
    "# state=-5466400890088961855&code=1000.71f7dd93b5571315574f9b82315ea6d6.91844bdb4a86740d3dba8a7e5b655d40&location=us"
   ]
  },
  {
   "cell_type": "code",
   "execution_count": 178,
   "metadata": {
    "scrolled": true
   },
   "outputs": [
    {
     "ename": "TypeError",
     "evalue": "an integer is required (got type datetime.datetime)",
     "output_type": "error",
     "traceback": [
      "\u001b[0;31m---------------------------------------------------------------------------\u001b[0m",
      "\u001b[0;31mTypeError\u001b[0m                                 Traceback (most recent call last)",
      "\u001b[0;32m<ipython-input-178-213f2ae3d484>\u001b[0m in \u001b[0;36m<module>\u001b[0;34m\u001b[0m\n\u001b[0;32m----> 1\u001b[0;31m \u001b[0mdatetime\u001b[0m\u001b[0;34m.\u001b[0m\u001b[0mdatetime\u001b[0m\u001b[0;34m.\u001b[0m\u001b[0mfromtimestamp\u001b[0m\u001b[0;34m(\u001b[0m\u001b[0mdatetime\u001b[0m\u001b[0;34m.\u001b[0m\u001b[0mdatetime\u001b[0m\u001b[0;34m.\u001b[0m\u001b[0mnow\u001b[0m\u001b[0;34m(\u001b[0m\u001b[0;34m)\u001b[0m\u001b[0;34m)\u001b[0m\u001b[0;34m\u001b[0m\u001b[0;34m\u001b[0m\u001b[0m\n\u001b[0m",
      "\u001b[0;31mTypeError\u001b[0m: an integer is required (got type datetime.datetime)"
     ]
    }
   ],
   "source": [
    "datetime.datetime.fromtimestamp(datetime.datetime.now())"
   ]
  },
  {
   "cell_type": "code",
   "execution_count": 186,
   "metadata": {},
   "outputs": [
    {
     "data": {
      "text/plain": [
       "0"
      ]
     },
     "execution_count": 186,
     "metadata": {},
     "output_type": "execute_result"
    }
   ],
   "source": [
    "sum([False, False])"
   ]
  },
  {
   "cell_type": "code",
   "execution_count": 197,
   "metadata": {},
   "outputs": [],
   "source": [
    "class ZohoTicket(BaseModel):\n",
    "#     id: int\n",
    "    subject: str\n",
    "    departmentId: Optional[int]\n",
    "    contactId: Optional[str]\n",
    "    contact: Optional[dict]\n",
    "    productId: Optional[str]\n",
    "    uploads: Optional[List]\n",
    "    email: Optional[str]\n",
    "    phone: Optional[str]\n",
    "    description: Optional[str]\n",
    "    status: Optional[str]\n",
    "    assigneeId: Optional[int]\n",
    "    category: Optional[str]\n",
    "    subCategory: Optional[str]\n",
    "    resolution: Optional[str]\n",
    "    dueDate: Optional[datetime]\n",
    "    priority: Optional[str]\n",
    "    language: Optional[str]\n",
    "    responseDueDate: Optional[datetime]\n",
    "    channel: Optional[str]\n",
    "    classification: Optional[str] # Type of ticket. Values supported are Problem, Request, Question, and Others\n",
    "    cf: Optional[dict] # Custom fields in the ticket\n",
    "    webUrl: Optional[HttpUrl]\n",
    "    teamId: Optional[int]\n",
    "    secondaryContacts: Optional[List]\n",
    "        \n",
    "    \n",
    "#     @validator('contactId', 'contact')\n",
    "#     def check_contact_info(cls, values):\n",
    "#         pdb.set_trace()\n",
    "#         items_exist = [exist for exist in bool(values)]\n",
    "#         assert sum(items_exist) > 0\n",
    "#         return values\n",
    "    "
   ]
  },
  {
   "cell_type": "code",
   "execution_count": 198,
   "metadata": {},
   "outputs": [
    {
     "data": {
      "text/plain": [
       "{'subject': 'Test automated ticket generation # 2',\n",
       " 'departmentId': 286477000000006907,\n",
       " 'contactId': 'temp',\n",
       " 'contact': {'email': 'cdare@andrew.cmu.edu'},\n",
       " 'productId': None,\n",
       " 'uploads': None,\n",
       " 'email': 'cdare@andrew.cmu.edu',\n",
       " 'phone': None,\n",
       " 'description': 'Description of automated ticket',\n",
       " 'status': 'Open',\n",
       " 'assigneeId': None,\n",
       " 'category': 'general',\n",
       " 'subCategory': None,\n",
       " 'resolution': None,\n",
       " 'dueDate': None,\n",
       " 'priority': None,\n",
       " 'language': 'English',\n",
       " 'responseDueDate': None,\n",
       " 'channel': None,\n",
       " 'classification': None,\n",
       " 'cf': {},\n",
       " 'webUrl': None,\n",
       " 'teamId': None,\n",
       " 'secondaryContacts': None}"
      ]
     },
     "execution_count": 198,
     "metadata": {},
     "output_type": "execute_result"
    }
   ],
   "source": [
    "ticket_data = {\n",
    "    \"subject\": \"Test automated ticket generation # 2\",\n",
    "    \"departmentId\": 286477000000006907,\n",
    "    \"email\": \"cdare@andrew.cmu.edu\",\n",
    "    \"contact\": {\n",
    "        \"email\": \"cdare@andrew.cmu.edu\"\n",
    "    },\n",
    "    \"contactId\": \"temp\",\n",
    "    \"description\" : \"Description of automated ticket\",\n",
    "    \"language\" : \"English\",\n",
    "    \"category\" : \"general\",\n",
    "    \"status\" : \"Open\",\n",
    "    \"cf\":{},\n",
    "}\n",
    "zohoTicket = ZohoTicket(**ticket_data)\n",
    "zohoTicket.dict()"
   ]
  },
  {
   "cell_type": "code",
   "execution_count": null,
   "metadata": {},
   "outputs": [],
   "source": [
    "    accountId\n",
    "    approvalCount: int\n",
    "    assignee: str # assignee id\n",
    "    attachmentCount\n",
    "    category\n",
    "    cf\n",
    "    channel\n",
    "    channelCode\n",
    "    channelRelatedInfo\n",
    "    classification\n",
    "    closedTime\n",
    "    commentCount\n",
    "    contactId\n",
    "    createdTime\n",
    "    customFields\n",
    "    customerResponseTime\n",
    "    departmentId\n",
    "    description\n",
    "    dueDate\n",
    "    email\n",
    "    entitySkills\n",
    "    id\n",
    "    isArchived\n",
    "    isDeleted\n",
    "    isResponseOverdue\n",
    "    isSpam\n",
    "    isTrashed\n",
    "    language\n",
    "    layoutDetails\n",
    "    layoutId\n",
    "    modifiedBy\n",
    "    modifiedTime\n",
    "    onholdTime\n",
    "    phone\n",
    "    priority\n",
    "    productId\n",
    "    resolution\n",
    "    responseDueDate\n",
    "    secondaryContacts\n",
    "    sharedDepartments\n",
    "    slaId\n",
    "    source\n",
    "    status\n",
    "    statusType\n",
    "    subCategory\n",
    "    subject\n",
    "    taskCount\n",
    "    teamId\n",
    "    threadCount\n",
    "    ticketNumber\n",
    "    timeEntryCount\n",
    "    webUrl"
   ]
  },
  {
   "cell_type": "code",
   "execution_count": 160,
   "metadata": {},
   "outputs": [],
   "source": [
    "zoho_self_client = ZohoSelfClient(**zoho_self_client_dict, test=\"hi\")\n",
    "zohoDesk = ZohoDesk(app=zoho_self_client)"
   ]
  },
  {
   "cell_type": "code",
   "execution_count": 166,
   "metadata": {},
   "outputs": [
    {
     "data": {
      "text/plain": [
       "({'error': True}, <Response [200]>)"
      ]
     },
     "execution_count": 166,
     "metadata": {},
     "output_type": "execute_result"
    }
   ],
   "source": [
    "# zohoDesk.refresh_oauth_tokens()\n",
    "ticket_data = {\n",
    "    \"subject\": \"Test automated ticket generation # 2\",\n",
    "    \"departmentId\": 286477000000006907,\n",
    "    \"email\": \"cdare@andrew.cmu.edu\",\n",
    "    \"contact\": {\n",
    "        \"email\": \"cdare@andrew.cmu.edu\"\n",
    "    },\n",
    "    \"description\" : \"Description of automated ticket\",\n",
    "    \"language\" : \"English\",\n",
    "    \"category\" : \"general\",\n",
    "    \"status\" : \"Open\",\n",
    "    \"cf\":{},\n",
    "}\n",
    "ticket = zohoDesk.create_ticket(payload=ticket_data)\n",
    "ticket\n",
    "# zohoDesk.app.dict()"
   ]
  },
  {
   "cell_type": "code",
   "execution_count": 172,
   "metadata": {},
   "outputs": [
    {
     "name": "stdout",
     "output_type": "stream",
     "text": [
      "accountId\n",
      "approvalCount\n",
      "assigneeId\n",
      "attachmentCount\n",
      "category\n",
      "cf\n",
      "channel\n",
      "channelCode\n",
      "channelRelatedInfo\n",
      "classification\n",
      "closedTime\n",
      "commentCount\n",
      "contactId\n",
      "createdTime\n",
      "customFields\n",
      "customerResponseTime\n",
      "departmentId\n",
      "description\n",
      "dueDate\n",
      "email\n",
      "entitySkills\n",
      "id\n",
      "isArchived\n",
      "isDeleted\n",
      "isResponseOverdue\n",
      "isSpam\n",
      "isTrashed\n",
      "language\n",
      "layoutDetails\n",
      "layoutId\n",
      "modifiedBy\n",
      "modifiedTime\n",
      "onholdTime\n",
      "phone\n",
      "priority\n",
      "productId\n",
      "resolution\n",
      "responseDueDate\n",
      "secondaryContacts\n",
      "sharedDepartments\n",
      "slaId\n",
      "source\n",
      "status\n",
      "statusType\n",
      "subCategory\n",
      "subject\n",
      "taskCount\n",
      "teamId\n",
      "threadCount\n",
      "ticketNumber\n",
      "timeEntryCount\n",
      "webUrl\n"
     ]
    }
   ],
   "source": [
    "for key in sorted(list(ticket.keys())):\n",
    "    print(key)"
   ]
  },
  {
   "cell_type": "code",
   "execution_count": 167,
   "metadata": {},
   "outputs": [
    {
     "ename": "KeyError",
     "evalue": "('modifiedTime', '2021-01-12T14:38:49.000Z')",
     "output_type": "error",
     "traceback": [
      "\u001b[0;31m---------------------------------------------------------------------------\u001b[0m",
      "\u001b[0;31mKeyError\u001b[0m                                  Traceback (most recent call last)",
      "\u001b[0;32m<ipython-input-167-40ac89c62fe3>\u001b[0m in \u001b[0;36m<module>\u001b[0;34m\u001b[0m\n\u001b[1;32m      1\u001b[0m \u001b[0mticket\u001b[0m \u001b[0;34m=\u001b[0m \u001b[0mticket\u001b[0m\u001b[0;34m[\u001b[0m\u001b[0;36m1\u001b[0m\u001b[0;34m]\u001b[0m\u001b[0;34m.\u001b[0m\u001b[0mjson\u001b[0m\u001b[0;34m(\u001b[0m\u001b[0;34m)\u001b[0m\u001b[0;34m\u001b[0m\u001b[0;34m\u001b[0m\u001b[0m\n\u001b[1;32m      2\u001b[0m \u001b[0;34m{\u001b[0m\u001b[0mk\u001b[0m\u001b[0;34m:\u001b[0m \u001b[0mticket\u001b[0m\u001b[0;34m[\u001b[0m\u001b[0mk\u001b[0m\u001b[0;34m]\u001b[0m \u001b[0;32mfor\u001b[0m \u001b[0mk\u001b[0m \u001b[0;32min\u001b[0m \u001b[0msorted\u001b[0m\u001b[0;34m(\u001b[0m\u001b[0mticket\u001b[0m\u001b[0;34m)\u001b[0m\u001b[0;34m}\u001b[0m\u001b[0;34m\u001b[0m\u001b[0;34m\u001b[0m\u001b[0m\n\u001b[0;32m----> 3\u001b[0;31m \u001b[0;34m{\u001b[0m\u001b[0mk\u001b[0m\u001b[0;34m:\u001b[0m \u001b[0mv\u001b[0m \u001b[0;32mfor\u001b[0m \u001b[0mk\u001b[0m\u001b[0;34m,\u001b[0m\u001b[0mv\u001b[0m \u001b[0;32min\u001b[0m \u001b[0msorted\u001b[0m\u001b[0;34m(\u001b[0m\u001b[0mticket\u001b[0m\u001b[0;34m.\u001b[0m\u001b[0mitems\u001b[0m\u001b[0;34m(\u001b[0m\u001b[0;34m)\u001b[0m\u001b[0;34m,\u001b[0m \u001b[0mkey\u001b[0m\u001b[0;34m=\u001b[0m\u001b[0mticket\u001b[0m\u001b[0;34m.\u001b[0m\u001b[0m__getitem__\u001b[0m\u001b[0;34m)\u001b[0m\u001b[0;34m}\u001b[0m\u001b[0;34m\u001b[0m\u001b[0;34m\u001b[0m\u001b[0m\n\u001b[0m\u001b[1;32m      4\u001b[0m \u001b[0mticket\u001b[0m\u001b[0;34m\u001b[0m\u001b[0;34m\u001b[0m\u001b[0m\n",
      "\u001b[0;31mKeyError\u001b[0m: ('modifiedTime', '2021-01-12T14:38:49.000Z')"
     ]
    }
   ],
   "source": [
    "# ticket = ticket[1].json()\n",
    "{k: ticket[k] for k in sorted(ticket)}\n",
    "{k: v for k,v in sorted(ticket.items(), key=ticket.__getitem__)}\n",
    "ticket"
   ]
  },
  {
   "cell_type": "code",
   "execution_count": 80,
   "metadata": {},
   "outputs": [],
   "source": [
    "def get_zoho_oauth_tokens(zoho_self_client: ZohoSelfClient, oauth_url: str = zoho_urls[\"oauth\"])-> dict: \n",
    "    payload = {\n",
    "        \"code\": zoho_self_client.code,\n",
    "        \"grant_type\": zoho_self_client.grant_types[\"authorization_code\"],\n",
    "        \"client_id\": zoho_self_client.client_id,\n",
    "        \"client_secret\": zoho_self_client.client_secret,\n",
    "        \"redirect_uri\": zoho_self_client.redirect_uri,\n",
    "    }\n",
    "    response = requests.post(oauth_url, params=payload)\n",
    "    try:\n",
    "        if response.status_code == 200 and not response.json().get(\"error\"):\n",
    "            logging.info(\"Successfully retrieved oauth tokens\")\n",
    "            tokens = response.json()\n",
    "            zoho_self_client.access_token = tokens[\"access_token\"]\n",
    "            zoho_self_client.refresh_token = tokens[\"refresh_token\"]\n",
    "            tokens[\"status\"] = True\n",
    "        else:\n",
    "            logging.error(\"Failed to retrieve oauth tokens\")\n",
    "            tokens = dict()\n",
    "            tokens[\"status\"] = False\n",
    "    except (ValueError, KeyError) as e:\n",
    "        pass # there's no token\n",
    "    return tokens"
   ]
  },
  {
   "cell_type": "code",
   "execution_count": 7,
   "metadata": {
    "scrolled": true
   },
   "outputs": [
    {
     "data": {
      "text/plain": [
       "{'code': '1000.4aa0e249d8afbc3a712bb4d25730d143.1499b2a8b23e0fb094d3e1e8d018689d',\n",
       " 'scope': ['Desk.tickets.ALL'],\n",
       " 'expiry_time': 1610367630253,\n",
       " 'client_id': '1000.QXWN1SUWKQC7F1F1D4C2R8BC00I3AE',\n",
       " 'client_secret': '6a27c69dfb8e31e6a9ceea8ef5bf152fd41aea8c07',\n",
       " 'grant_types': {'authorization_code': 'authorization_code',\n",
       "  'refresh_token': 'refresh_token'},\n",
       " 'redirect_uri': 'https://patient.serenity.health'}"
      ]
     },
     "execution_count": 7,
     "metadata": {},
     "output_type": "execute_result"
    }
   ],
   "source": [
    "zoho_self_client_dict"
   ]
  },
  {
   "cell_type": "code",
   "execution_count": 12,
   "metadata": {},
   "outputs": [
    {
     "data": {
      "text/plain": [
       "{'scope': ['Desk.tickets.ALL'],\n",
       " 'expiry_time': 1610367630253,\n",
       " 'client_id': '1000.QXWN1SUWKQC7F1F1D4C2R8BC00I3AE',\n",
       " 'client_secret': '6a27c69dfb8e31e6a9ceea8ef5bf152fd41aea8c07',\n",
       " 'code': '1000.4aa0e249d8afbc3a712bb4d25730d143.1499b2a8b23e0fb094d3e1e8d018689d',\n",
       " 'grant_types': {'authorization_code': 'authorization_code',\n",
       "  'refresh_token': 'refresh_token'},\n",
       " 'access_token': '1000.047275292bd89ec13144ad7454eb201b.26600ff92420957e56ff23c0d7a765de',\n",
       " 'refresh_token': '1000.87583d1a480fb5a74088ca3d9f5d536f.6f32f768e0780688e75bf742bd6238be',\n",
       " 'redirect_uri': 'https://patient.serenity.health'}"
      ]
     },
     "execution_count": 12,
     "metadata": {},
     "output_type": "execute_result"
    }
   ],
   "source": [
    "tokens = get_zoho_oauth_tokens(zoho_self_client)\n",
    "zoho_self_client.dict()"
   ]
  },
  {
   "cell_type": "code",
   "execution_count": 13,
   "metadata": {},
   "outputs": [
    {
     "data": {
      "text/plain": [
       "'Zoho-oauthtoken 1000.047275292bd89ec13144ad7454eb201b.26600ff92420957e56ff23c0d7a765de'"
      ]
     },
     "execution_count": 13,
     "metadata": {},
     "output_type": "execute_result"
    }
   ],
   "source": [
    "zoho_self_client.get_authorization_header()"
   ]
  },
  {
   "cell_type": "code",
   "execution_count": 14,
   "metadata": {},
   "outputs": [],
   "source": [
    "def refresh_zoho_oauth_tokens(zoho_self_client: ZohoSelfClient, oauth_url: str = zoho_urls[\"oauth\"])-> dict: \n",
    "    if not self_client.refresh_token:\n",
    "        tokens = get_zoho_oauth_tokens(zoho_self_client)\n",
    "        if not tokens[\"status\"]:\n",
    "            return tokens\n",
    "    else:\n",
    "        payload = {\n",
    "            \"refresh_token\": zoho_self_client.refresh_token,\n",
    "            \"scope\": zoho_self_client.scope,\n",
    "            \"grant_type\": zoho_self_client.grant_types[\"refresh_token\"],\n",
    "            \"client_id\": zoho_self_client.client_id,\n",
    "            \"client_secret\": zoho_self_client.client_secret,\n",
    "            \"redirect_uri\": zoho_self_client.redirect_uri,\n",
    "        }\n",
    "        response = requests.post(oauth_url, params=payload)\n",
    "        logging.warning(response.url)\n",
    "        try:\n",
    "            if response.status_code == 200 and not response.json().get(\"error\"):\n",
    "                tokens = response.json()\n",
    "                zoho_self_client.access_token = tokens[\"access_token\"]\n",
    "                tokens[\"status\"] = True\n",
    "            else:\n",
    "                tokens = dict()\n",
    "                tokens[\"status\"] = False\n",
    "        except ValueError:\n",
    "            pass # there's no token\n",
    "        return tokens\n",
    "\n",
    "# serenity_zoho_access_keys"
   ]
  },
  {
   "cell_type": "code",
   "execution_count": null,
   "metadata": {},
   "outputs": [],
   "source": [
    "tokens = refresh_zoho_oauth_tokens(zoho_self_client)\n",
    "zoho_self_client.dict()"
   ]
  },
  {
   "cell_type": "markdown",
   "metadata": {},
   "source": [
    "## Get departments"
   ]
  },
  {
   "cell_type": "code",
   "execution_count": 15,
   "metadata": {},
   "outputs": [
    {
     "data": {
      "text/plain": [
       "'Zoho-oauthtoken 1000.047275292bd89ec13144ad7454eb201b.26600ff92420957e56ff23c0d7a765de'"
      ]
     },
     "execution_count": 15,
     "metadata": {},
     "output_type": "execute_result"
    }
   ],
   "source": [
    "zoho_self_client.get_authorization_header()"
   ]
  },
  {
   "cell_type": "code",
   "execution_count": 28,
   "metadata": {},
   "outputs": [],
   "source": [
    "def get_departments(\n",
    "        zoho_self_client: ZohoSelfClient, \n",
    "        params: dict = {}, \n",
    "        base_url: str = zoho_urls[\"base_url\"],\n",
    "    ) -> dict:\n",
    "    headers = {\"Authorization\": f\"Zoho-oauthtoken {zoho_self_client.access_token}\"}\n",
    "#     params = {**params, 'isEnabled': True, \"chatStatus\": \"AVAILABLE\"}\n",
    "    response = requests.get(f\"{base_url}/departments\", headers=headers, params=params)\n",
    "    if response.status_code == 200:\n",
    "        data = response.json()\n",
    "    else:\n",
    "        data = {\"error\": True}\n",
    "    return data"
   ]
  },
  {
   "cell_type": "code",
   "execution_count": 35,
   "metadata": {},
   "outputs": [],
   "source": [
    "def get_department(\n",
    "        zoho_self_client: ZohoSelfClient, \n",
    "        department_id: int,\n",
    "        params: dict = {}, \n",
    "        base_url: str = zoho_urls[\"base_url\"],\n",
    "    ) -> dict:\n",
    "    headers = {\"Authorization\": f\"Zoho-oauthtoken {zoho_self_client.access_token}\"}\n",
    "#     params = {**params, 'isEnabled': True, \"chatStatus\": \"AVAILABLE\"}\n",
    "    response = requests.get(f\"{base_url}/departments/{department_id}\", headers=headers, params=params)\n",
    "    if response.status_code == 200:\n",
    "        data = response.json()\n",
    "    else:\n",
    "        data = {\"error\": True}\n",
    "    return data"
   ]
  },
  {
   "cell_type": "code",
   "execution_count": 36,
   "metadata": {},
   "outputs": [
    {
     "data": {
      "text/plain": [
       "{'id': '286477000000006907',\n",
       " 'name': 'clearspacelabs',\n",
       " 'description': None,\n",
       " 'createdTime': '2018-05-31T23:20:04.000Z',\n",
       " 'associatedAgentIds': ['286477000001037001', '286477000000086033'],\n",
       " 'nameInCustomerPortal': 'clearspacelabs',\n",
       " 'hasLogo': False,\n",
       " 'creatorId': '286477000000086033',\n",
       " 'chatStatus': 'NOT_CREATED',\n",
       " 'sanitizedName': 'clearspacelabs',\n",
       " 'isAssignToTeamEnabled': True,\n",
       " 'isVisibleInCustomerPortal': True,\n",
       " 'isEnabled': True,\n",
       " 'isDefault': True}"
      ]
     },
     "execution_count": 36,
     "metadata": {},
     "output_type": "execute_result"
    }
   ],
   "source": [
    "departments = get_department(zoho_self_client, 286477000000006907)\n",
    "departments"
   ]
  },
  {
   "cell_type": "code",
   "execution_count": 26,
   "metadata": {},
   "outputs": [
    {
     "name": "stdout",
     "output_type": "stream",
     "text": [
      "{\"data\":[{\"id\":\"286477000000006907\",\"name\":\"clearspacelabs\",\"description\":null,\"createdTime\":\"2018-05-31T23:20:04.000Z\",\"nameInCustomerPortal\":\"clearspacelabs\",\"hasLogo\":false,\"creatorId\":\"286477000000086033\",\"chatStatus\":\"NOT_CREATED\",\"isVisibleInCustomerPortal\":true,\"isAssignToTeamEnabled\":true,\"sanitizedName\":\"clearspacelabs\",\"isEnabled\":true,\"isDefault\":true}]}"
     ]
    }
   ],
   "source": [
    "!curl -X GET \"https://desk.zoho.com/api/v1/departments\"\\\n",
    "  -H \"Authorization:Zoho-oauthtoken 1000.047275292bd89ec13144ad7454eb201b.26600ff92420957e56ff23c0d7a765de\""
   ]
  },
  {
   "cell_type": "markdown",
   "metadata": {},
   "source": [
    "## Get all tickets"
   ]
  },
  {
   "cell_type": "code",
   "execution_count": null,
   "metadata": {},
   "outputs": [],
   "source": [
    "!curl -X GET https://desk.zoho.com/api/v1/tickets?include=contacts,assignee,departments,team,isRead\\\n",
    "  -H \"Authorization:Zoho-oauthtoken 1000.62364743ad3344f15fe51a8988eaef42.abd218be429b372f12bad73af6e5b8ac\""
   ]
  },
  {
   "cell_type": "code",
   "execution_count": null,
   "metadata": {},
   "outputs": [],
   "source": [
    "def get_all_tickets(zoho_self_client: ZohoSelfClient, params: dict = {}, base_url: str = zoho_urls[\"base_url\"],) -> dict:    \n",
    "    headers = {\"Authorization\": f\"Zoho-oauthtoken {zoho_self_client.access_token}\"}\n",
    "    response = requests.get(f\"{base_url}/tickets\", headers=headers, params=params)\n",
    "    if response.status_code == 200:\n",
    "        data = response.json()\n",
    "    else:\n",
    "        data = {\"error\": True}\n",
    "    return data"
   ]
  },
  {
   "cell_type": "code",
   "execution_count": 56,
   "metadata": {},
   "outputs": [],
   "source": [
    "def create_ticket(zoho_self_client: ZohoSelfClient, payload:dict, base_url: str = zoho_urls[\"base_url\"],) -> dict:    \n",
    "    headers = {\"Authorization\": f\"Zoho-oauthtoken {zoho_self_client.access_token}\"}\n",
    "    response = requests.post(f\"{base_url}/tickets\", headers=headers, data=json.dumps(payload))\n",
    "    if response.status_code == 201:\n",
    "        data = response.json()\n",
    "    else:\n",
    "        data = {\"error\": True}\n",
    "    return data, response"
   ]
  },
  {
   "cell_type": "code",
   "execution_count": 64,
   "metadata": {
    "scrolled": true
   },
   "outputs": [],
   "source": [
    "response = create_ticket(zoho_self_client, payload = ticket_data)"
   ]
  },
  {
   "cell_type": "code",
   "execution_count": 66,
   "metadata": {
    "scrolled": true
   },
   "outputs": [
    {
     "data": {
      "text/plain": [
       "{'modifiedTime': '2021-01-12T13:01:12.000Z',\n",
       " 'subCategory': None,\n",
       " 'statusType': 'Open',\n",
       " 'subject': 'Test automated ticket generation',\n",
       " 'dueDate': None,\n",
       " 'departmentId': '286477000000006907',\n",
       " 'channel': 'Phone',\n",
       " 'onholdTime': None,\n",
       " 'language': None,\n",
       " 'source': {'appName': None,\n",
       "  'extId': None,\n",
       "  'permalink': None,\n",
       "  'type': 'SYSTEM',\n",
       "  'appPhotoURL': None},\n",
       " 'resolution': None,\n",
       " 'sharedDepartments': [],\n",
       " 'closedTime': None,\n",
       " 'approvalCount': '0',\n",
       " 'isTrashed': False,\n",
       " 'createdTime': '2021-01-12T13:01:12.000Z',\n",
       " 'id': '286477000001053021',\n",
       " 'isResponseOverdue': False,\n",
       " 'customerResponseTime': '2021-01-12T13:01:12.000Z',\n",
       " 'productId': None,\n",
       " 'contactId': '286477000001053001',\n",
       " 'threadCount': '0',\n",
       " 'secondaryContacts': [],\n",
       " 'priority': None,\n",
       " 'classification': None,\n",
       " 'commentCount': '0',\n",
       " 'taskCount': '0',\n",
       " 'accountId': None,\n",
       " 'phone': None,\n",
       " 'webUrl': 'https://desk.zoho.com/support/serenityhealth/ShowHomePage.do#Cases/dv/286477000001053021',\n",
       " 'isSpam': False,\n",
       " 'status': 'Open',\n",
       " 'entitySkills': [],\n",
       " 'ticketNumber': '102',\n",
       " 'customFields': {},\n",
       " 'isArchived': False,\n",
       " 'description': None,\n",
       " 'timeEntryCount': '0',\n",
       " 'channelRelatedInfo': None,\n",
       " 'responseDueDate': None,\n",
       " 'isDeleted': False,\n",
       " 'modifiedBy': '286477000001037001',\n",
       " 'email': 'chris@clearspacelabs.com',\n",
       " 'layoutDetails': {'id': '286477000000074011', 'layoutName': 'clearspacelabs'},\n",
       " 'channelCode': None,\n",
       " 'cf': {},\n",
       " 'slaId': None,\n",
       " 'layoutId': '286477000000074011',\n",
       " 'assigneeId': None,\n",
       " 'teamId': None,\n",
       " 'attachmentCount': '0',\n",
       " 'category': None}"
      ]
     },
     "execution_count": 66,
     "metadata": {},
     "output_type": "execute_result"
    }
   ],
   "source": [
    "response[1].json()"
   ]
  },
  {
   "cell_type": "code",
   "execution_count": 63,
   "metadata": {},
   "outputs": [],
   "source": [
    "ticket_data = {\n",
    "    \"subject\": \"Test automated ticket generation\",\n",
    "    \"departmentId\": 286477000000006907,\n",
    "    \"email\": \"chris@clearspacelabs.com\",\n",
    "    \"contact\": {\n",
    "        \"email\": \"chris@clearspacelabs.com\"\n",
    "    },\n",
    "    \"description\" : \"Description of automated ticket\",\n",
    "    \"language\" : \"English\",\n",
    "    \"category\" : \"general\",\n",
    "    \"status\" : \"Open\",\n",
    "    \"cf\":{},\n",
    "}"
   ]
  },
  {
   "cell_type": "code",
   "execution_count": 41,
   "metadata": {},
   "outputs": [],
   "source": [
    "null = None"
   ]
  },
  {
   "cell_type": "code",
   "execution_count": 52,
   "metadata": {},
   "outputs": [],
   "source": [
    "ticket_data = {\n",
    "    \"subCategory\" : \"Serenity Patient portal\",\n",
    "    \"cf\" : {\n",
    "    \"cf_permanentaddress\" : null,\n",
    "    \"cf_dateofpurchase\" : null,\n",
    "    \"cf_phone\" : null,\n",
    "    \"cf_numberofitems\" : null,\n",
    "    \"cf_url\" : null,\n",
    "    \"cf_secondaryemail\" : null,\n",
    "    \"cf_severitypercentage\" : \"0.0\",\n",
    "    \"cf_modelname\" : \"F3 2017\"\n",
    "    },\n",
    "    \"productId\" : \"\",\n",
    "    \"contactId\" : \"\",\n",
    "    \"contact\":{\n",
    "        \"email\": \"chris@clearspacelabs.com\"\n",
    "    },\n",
    "    \"subject\" : \"Test automated ticket creation\",\n",
    "    \"dueDate\" : \"2021-01-21T16:16:16.000Z\",\n",
    "    \"departmentId\" : \"286477000000006907\",\n",
    "    \"channel\" : \"Email\",\n",
    "    \"description\" : \"Description of automated\",\n",
    "    \"language\" : \"English\",\n",
    "    \"priority\" : \"High\",\n",
    "    \"classification\" : \"\",\n",
    "    \"assigneeId\" : \"\",\n",
    "    \"phone\" : \"+250786745117\",\n",
    "    \"category\" : \"general\",\n",
    "    \"email\" : \"chris@clearspacelabs.com\",\n",
    "    \"status\" : \"Open\"\n",
    "}"
   ]
  }
 ],
 "metadata": {
  "kernelspec": {
   "display_name": "Python 3",
   "language": "python",
   "name": "python3"
  },
  "language_info": {
   "codemirror_mode": {
    "name": "ipython",
    "version": 3
   },
   "file_extension": ".py",
   "mimetype": "text/x-python",
   "name": "python",
   "nbconvert_exporter": "python",
   "pygments_lexer": "ipython3",
   "version": "3.7.1"
  }
 },
 "nbformat": 4,
 "nbformat_minor": 4
}
