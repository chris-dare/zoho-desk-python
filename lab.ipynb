{
 "cells": [
  {
   "cell_type": "markdown",
   "metadata": {},
   "source": [
    "# API lab\n",
    "This is a notebook to experiment before making new additions and improvements to the packages and modules in this project"
   ]
  },
  {
   "cell_type": "code",
   "execution_count": 15,
   "metadata": {},
   "outputs": [],
   "source": [
    "import json\n",
    "import logging\n",
    "import pdb\n",
    "from datetime import datetime\n",
    "\n",
    "import requests\n",
    "\n",
    "from typing import List, Optional\n",
    "from pydantic import BaseModel, HttpUrl, ValidationError, validator\n",
    "\n",
    "from app.schemas.zoho_app import ZohoSelfClientApp as ZohoSelfClient\n",
    "from app.api import deps"
   ]
  },
  {
   "cell_type": "code",
   "execution_count": 11,
   "metadata": {},
   "outputs": [],
   "source": [
    "logger = logging.getLogger('dev')\n",
    "logger.setLevel(logging.INFO)"
   ]
  },
  {
   "cell_type": "code",
   "execution_count": null,
   "metadata": {},
   "outputs": [],
   "source": [
    "\"\"\"\n",
    "Zoho Ticket properties\n",
    "    accountId\n",
    "    approvalCount: int\n",
    "    assignee: str # assignee id\n",
    "    attachmentCount\n",
    "    category\n",
    "    cf\n",
    "    channel\n",
    "    channelCode\n",
    "    channelRelatedInfo\n",
    "    classification\n",
    "    closedTime\n",
    "    commentCount\n",
    "    contactId\n",
    "    createdTime\n",
    "    customFields\n",
    "    customerResponseTime\n",
    "    departmentId\n",
    "    description\n",
    "    dueDate\n",
    "    email\n",
    "    entitySkills\n",
    "    id\n",
    "    isArchived\n",
    "    isDeleted\n",
    "    isResponseOverdue\n",
    "    isSpam\n",
    "    isTrashed\n",
    "    language\n",
    "    layoutDetails\n",
    "    layoutId\n",
    "    modifiedBy\n",
    "    modifiedTime\n",
    "    onholdTime\n",
    "    phone\n",
    "    priority\n",
    "    productId\n",
    "    resolution\n",
    "    responseDueDate\n",
    "    secondaryContacts\n",
    "    sharedDepartments\n",
    "    slaId\n",
    "    source\n",
    "    status\n",
    "    statusType\n",
    "    subCategory\n",
    "    subject\n",
    "    taskCount\n",
    "    teamId\n",
    "    threadCount\n",
    "    ticketNumber\n",
    "    timeEntryCount\n",
    "    webUrl\n",
    "\"\"\""
   ]
  },
  {
   "cell_type": "code",
   "execution_count": 16,
   "metadata": {},
   "outputs": [],
   "source": [
    "zoho_urls = deps.get_zoho_desk_api().urls"
   ]
  },
  {
   "cell_type": "code",
   "execution_count": 17,
   "metadata": {},
   "outputs": [],
   "source": [
    "def get_zoho_oauth_tokens(zoho_self_client: ZohoSelfClient, oauth_url: str = zoho_urls[\"oauth\"])-> dict: \n",
    "    payload = {\n",
    "        \"code\": zoho_self_client.code,\n",
    "        \"grant_type\": zoho_self_client.grant_types[\"authorization_code\"],\n",
    "        \"client_id\": zoho_self_client.client_id,\n",
    "        \"client_secret\": zoho_self_client.client_secret,\n",
    "        \"redirect_uri\": zoho_self_client.redirect_uri,\n",
    "    }\n",
    "    response = requests.post(oauth_url, params=payload)\n",
    "    try:\n",
    "        if response.status_code == 200 and not response.json().get(\"error\"):\n",
    "            logging.info(\"Successfully retrieved oauth tokens\")\n",
    "            tokens = response.json()\n",
    "            zoho_self_client.access_token = tokens[\"access_token\"]\n",
    "            zoho_self_client.refresh_token = tokens[\"refresh_token\"]\n",
    "            tokens[\"status\"] = True\n",
    "        else:\n",
    "            logging.error(\"Failed to retrieve oauth tokens\")\n",
    "            tokens = dict()\n",
    "            tokens[\"status\"] = False\n",
    "    except (ValueError, KeyError) as e:\n",
    "        pass # there's no token\n",
    "    return tokens"
   ]
  },
  {
   "cell_type": "code",
   "execution_count": 18,
   "metadata": {},
   "outputs": [],
   "source": [
    "def refresh_zoho_oauth_tokens(zoho_self_client: ZohoSelfClient, oauth_url: str = zoho_urls[\"oauth\"])-> dict: \n",
    "    if not self_client.refresh_token:\n",
    "        tokens = get_zoho_oauth_tokens(zoho_self_client)\n",
    "        if not tokens[\"status\"]:\n",
    "            return tokens\n",
    "    else:\n",
    "        payload = {\n",
    "            \"refresh_token\": zoho_self_client.refresh_token,\n",
    "            \"scope\": zoho_self_client.scope,\n",
    "            \"grant_type\": zoho_self_client.grant_types[\"refresh_token\"],\n",
    "            \"client_id\": zoho_self_client.client_id,\n",
    "            \"client_secret\": zoho_self_client.client_secret,\n",
    "            \"redirect_uri\": zoho_self_client.redirect_uri,\n",
    "        }\n",
    "        response = requests.post(oauth_url, params=payload)\n",
    "        logging.warning(response.url)\n",
    "        try:\n",
    "            if response.status_code == 200 and not response.json().get(\"error\"):\n",
    "                tokens = response.json()\n",
    "                zoho_self_client.access_token = tokens[\"access_token\"]\n",
    "                tokens[\"status\"] = True\n",
    "            else:\n",
    "                tokens = dict()\n",
    "                tokens[\"status\"] = False\n",
    "        except ValueError:\n",
    "            pass # there's no token\n",
    "        return tokens"
   ]
  },
  {
   "cell_type": "code",
   "execution_count": null,
   "metadata": {},
   "outputs": [],
   "source": [
    "tokens = refresh_zoho_oauth_tokens(zoho_self_client)\n",
    "zoho_self_client.dict()"
   ]
  },
  {
   "cell_type": "markdown",
   "metadata": {},
   "source": [
    "## Get departments"
   ]
  },
  {
   "cell_type": "code",
   "execution_count": 19,
   "metadata": {},
   "outputs": [],
   "source": [
    "def get_departments(\n",
    "        zoho_self_client: ZohoSelfClient, \n",
    "        params: dict = {}, \n",
    "        base_url: str = zoho_urls[\"base_url\"],\n",
    "    ) -> dict:\n",
    "    headers = {\"Authorization\": f\"Zoho-oauthtoken {zoho_self_client.access_token}\"}\n",
    "#     params = {**params, 'isEnabled': True, \"chatStatus\": \"AVAILABLE\"}\n",
    "    response = requests.get(f\"{base_url}/departments\", headers=headers, params=params)\n",
    "    if response.status_code == 200:\n",
    "        data = response.json()\n",
    "    else:\n",
    "        data = {\"error\": True}\n",
    "    return data"
   ]
  },
  {
   "cell_type": "code",
   "execution_count": 20,
   "metadata": {},
   "outputs": [],
   "source": [
    "def get_department(\n",
    "        zoho_self_client: ZohoSelfClient, \n",
    "        department_id: int,\n",
    "        params: dict = {}, \n",
    "        base_url: str = zoho_urls[\"base_url\"],\n",
    "    ) -> dict:\n",
    "    headers = {\"Authorization\": f\"Zoho-oauthtoken {zoho_self_client.access_token}\"}\n",
    "#     params = {**params, 'isEnabled': True, \"chatStatus\": \"AVAILABLE\"}\n",
    "    response = requests.get(f\"{base_url}/departments/{department_id}\", headers=headers, params=params)\n",
    "    if response.status_code == 200:\n",
    "        data = response.json()\n",
    "    else:\n",
    "        data = {\"error\": True}\n",
    "    return data"
   ]
  },
  {
   "cell_type": "code",
   "execution_count": null,
   "metadata": {},
   "outputs": [],
   "source": [
    "departments = get_department(zoho_self_client, 286477000000006907)\n",
    "departments"
   ]
  },
  {
   "cell_type": "code",
   "execution_count": null,
   "metadata": {},
   "outputs": [],
   "source": [
    "!curl -X GET \"https://desk.zoho.com/api/v1/departments\"\\\n",
    "  -H \"Authorization:Zoho-oauthtoken 1000.047275292bd89ec13144ad7454eb201b.26600ff92420957e56ff23c0d7a765de\""
   ]
  },
  {
   "cell_type": "markdown",
   "metadata": {},
   "source": [
    "## Get all tickets"
   ]
  },
  {
   "cell_type": "code",
   "execution_count": null,
   "metadata": {},
   "outputs": [],
   "source": [
    "!curl -X GET https://desk.zoho.com/api/v1/tickets?include=contacts,assignee,departments,team,isRead\\\n",
    "  -H \"Authorization:Zoho-oauthtoken 1000.62364743ad3344f15fe51a8988eaef42.abd218be429b372f12bad73af6e5b8ac\""
   ]
  },
  {
   "cell_type": "code",
   "execution_count": 21,
   "metadata": {},
   "outputs": [],
   "source": [
    "def get_all_tickets(zoho_self_client: ZohoSelfClient, params: dict = {}, base_url: str = zoho_urls[\"base_url\"],) -> dict:    \n",
    "    headers = {\"Authorization\": f\"Zoho-oauthtoken {zoho_self_client.access_token}\"}\n",
    "    response = requests.get(f\"{base_url}/tickets\", headers=headers, params=params)\n",
    "    if response.status_code == 200:\n",
    "        data = response.json()\n",
    "    else:\n",
    "        data = {\"error\": True}\n",
    "    return data"
   ]
  },
  {
   "cell_type": "code",
   "execution_count": null,
   "metadata": {},
   "outputs": [],
   "source": [
    "def create_ticket(zoho_self_client: ZohoSelfClient, payload:dict, base_url: str = zoho_urls[\"base_url\"],) -> dict:    \n",
    "    headers = {\"Authorization\": f\"Zoho-oauthtoken {zoho_self_client.access_token}\"}\n",
    "    response = requests.post(f\"{base_url}/tickets\", headers=headers, data=json.dumps(payload))\n",
    "    if response.status_code == 201:\n",
    "        data = response.json()\n",
    "    else:\n",
    "        data = {\"error\": True}\n",
    "    return data, response"
   ]
  },
  {
   "cell_type": "markdown",
   "metadata": {},
   "source": [
    "## Datetime validation experiment (Work in progress)"
   ]
  },
  {
   "cell_type": "code",
   "execution_count": 8,
   "metadata": {},
   "outputs": [],
   "source": [
    "# \n",
    "\n",
    "\"\"\"explanation\n",
    "\\b                # Assert position at a word boundary\n",
    "(                 # Match the regular expression below and capture its match into backreference number 1\n",
    "   0              # Match the character “0” literally\n",
    "      *           # Between zero and unlimited times, as many times as possible, giving back as needed (greedy)\n",
    "   (?:            # Match the regular expression below\n",
    "                  # Match either the regular expression below (attempting the next alternative only if this one fails)\n",
    "         [1-9]    # Match a single character in the range between “1” and “9”\n",
    "         [0-9]    # Match a single character in the range between “0” and “9”\n",
    "            ?     # Between zero and one times, as many times as possible, giving back as needed (greedy)\n",
    "      |           # Or match regular expression number 2 below (the entire group fails if this one fails to match)\n",
    "         100      # Match the characters “100” literally\n",
    "   )\n",
    ")\n",
    "\\b                # Assert position at a word boundary\n",
    "\"\"\"\n",
    "import re\n",
    "# year_regex = r\"\\b(0*(?:[1-9][0-9]?|100))\\b\"\n",
    "year_regex = r\"\\b(0*(?:[2][0-9][0-9][0-9]-?))\"\n",
    "month_regex = r\"(0*(?:[0][0-9]?|[1][1-2]-?))\\b\"\n",
    "# month_regex = r\"(0*(?:[0][0-9]|[1][1-2])?))\"\n",
    "regex = re.compile(f\"{year_regex}{month_regex}\")\n",
    "# regex = r\"\\b\"\n",
    "sample_date = \"2021-01-12T22:29:12.338Z\"\n",
    "re.search(regex, \"2025-13\")\n",
    "# regex.match(\"2025-06\")"
   ]
  },
  {
   "cell_type": "code",
   "execution_count": null,
   "metadata": {},
   "outputs": [],
   "source": [
    "from datetime import datetime, timezone, timedelta\n",
    "print(datetime.now(timezone.utc))\n",
    "resolution_sla_duration = timedelta(hours=1)\n",
    "print(datetime.now(timezone.utc) + resolution_sla_duration)\n",
    "\n",
    "# datetime.date.today()"
   ]
  },
  {
   "cell_type": "markdown",
   "metadata": {},
   "source": [
    "# API Sandbox Testing"
   ]
  },
  {
   "cell_type": "code",
   "execution_count": 1,
   "metadata": {},
   "outputs": [],
   "source": [
    "import json\n",
    "\n",
    "from app.api.deps import get_zoho_desk_api\n",
    "from app.schemas import Ticket, ZohoTicket\n",
    "zoho_desk = get_zoho_desk_api()"
   ]
  },
  {
   "cell_type": "markdown",
   "metadata": {},
   "source": [
    "## Test get Zoho tickets"
   ]
  },
  {
   "cell_type": "code",
   "execution_count": null,
   "metadata": {},
   "outputs": [],
   "source": [
    "zoho_desk.refresh_oauth_tokens()\n",
    "tickets = zoho_desk.get_tickets()\n",
    "[ZohoTicket(**ticket) for ticket in tickets] "
   ]
  },
  {
   "cell_type": "markdown",
   "metadata": {},
   "source": [
    "## Test create Zoho ticket"
   ]
  },
  {
   "cell_type": "code",
   "execution_count": 9,
   "metadata": {
    "scrolled": true
   },
   "outputs": [
    {
     "data": {
      "text/plain": [
       "{'subject': 'Test automated ticket generation # 5',\n",
       " 'departmentId': 286477000000006907,\n",
       " 'contact': {'email': 'cdare@andrew.cmu.edu'},\n",
       " 'email': 'cdare@andrew.cmu.edu',\n",
       " 'phone': '+250786745117',\n",
       " 'description': 'automated ticket generated',\n",
       " 'status': None,\n",
       " 'assigneeId': None,\n",
       " 'category': None,\n",
       " 'subCategory': None,\n",
       " 'resolution': None,\n",
       " 'priority': '1',\n",
       " 'language': 'English',\n",
       " 'channel': 'Phone',\n",
       " 'classification': None,\n",
       " 'cf': None,\n",
       " 'webUrl': None,\n",
       " 'teamId': None,\n",
       " 'secondaryContacts': None}"
      ]
     },
     "execution_count": 9,
     "metadata": {},
     "output_type": "execute_result"
    }
   ],
   "source": [
    "null = None # simulate JS null value\n",
    "sample_ticket_data = {\n",
    "  \"subject\": \"Test automated ticket generation # 5\",\n",
    "  \"departmentId\": 286477000000006907, # default\n",
    "  \"contact\": {\n",
    "      \"email\": \"cdare@andrew.cmu.edu\"\n",
    "  },\n",
    "  \"email\": \"cdare@andrew.cmu.edu\",\n",
    "  \"phone\": \"+250786745117\",\n",
    "  \"description\": \"automated ticket generated\",\n",
    "  \"priority\": \"1\",\n",
    "  \"language\": \"English\", # default\n",
    "  \"channel\": \"Phone\"\n",
    "}\n",
    "sample_ticket = Ticket(**sample_ticket_data)\n",
    "sample_ticket.dict()"
   ]
  },
  {
   "cell_type": "code",
   "execution_count": 7,
   "metadata": {
    "scrolled": true
   },
   "outputs": [
    {
     "name": "stderr",
     "output_type": "stream",
     "text": [
      "WARNING:root:https://accounts.zoho.com/oauth/v2/token?refresh_token=1000.4e90cf6bbc5bc9d49d568835fed198b0.40a0116b2fcdbb7c459d73e2446a8062&scope=Desk.tickets.ALL%2CDesk.settings.ALL%2CDesk.basic.READ%2CDesk.basic.CREATE&grant_type=refresh_token&client_id=1000.QXWN1SUWKQC7F1F1D4C2R8BC00I3AE&client_secret=6a27c69dfb8e31e6a9ceea8ef5bf152fd41aea8c07&redirect_uri=https%3A%2F%2Fpatient.serenity.health\n"
     ]
    },
    {
     "data": {
      "text/plain": [
       "ZohoTicket(subject='Test automated ticket generation # 5', departmentId=286477000000006907, contact=None, email='cdare@andrew.cmu.edu', phone='+250786745117', description='automated ticket generated', status='Open', assigneeId=None, category=None, subCategory=None, resolution=None, priority='1', language='English', channel='Phone', classification=None, cf={}, webUrl=HttpUrl('https://desk.zoho.com/support/serenityhealth/ShowHomePage.do#Cases/dv/286477000001067265', scheme='https', host='desk.zoho.com', tld='com', host_type='domain', path='/support/serenityhealth/ShowHomePage.do#Cases/dv/286477000001067265'), teamId=None, secondaryContacts=[], id=286477000001067265, contactId='286477000001060001', productId=None, uploads=None, dueDate=None, responseDueDate=None)"
      ]
     },
     "execution_count": 7,
     "metadata": {},
     "output_type": "execute_result"
    }
   ],
   "source": [
    "zoho_desk.create_ticket(sample_ticket)"
   ]
  }
 ],
 "metadata": {
  "kernelspec": {
   "display_name": "Python 3",
   "language": "python",
   "name": "python3"
  },
  "language_info": {
   "codemirror_mode": {
    "name": "ipython",
    "version": 3
   },
   "file_extension": ".py",
   "mimetype": "text/x-python",
   "name": "python",
   "nbconvert_exporter": "python",
   "pygments_lexer": "ipython3",
   "version": "3.8.5"
  }
 },
 "nbformat": 4,
 "nbformat_minor": 4
}
